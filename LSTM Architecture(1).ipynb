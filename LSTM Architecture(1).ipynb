{
 "cells": [
  {
   "cell_type": "markdown",
   "id": "answering-letter",
   "metadata": {
    "papermill": {
     "duration": 0.018394,
     "end_time": "2021-07-06T10:45:30.705336",
     "exception": false,
     "start_time": "2021-07-06T10:45:30.686942",
     "status": "completed"
    },
    "tags": []
   },
   "source": [
    "# LSTM Architecture for predicting the volatililty"
   ]
  },
  {
   "cell_type": "code",
   "execution_count": 1,
   "id": "mighty-fault",
   "metadata": {
    "_cell_guid": "b1076dfc-b9ad-4769-8c92-a6c4dae69d19",
    "_uuid": "8f2839f25d086af736a60e9eeb907d3b93b6e0e5",
    "execution": {
     "iopub.execute_input": "2021-07-06T10:45:30.784353Z",
     "iopub.status.busy": "2021-07-06T10:45:30.783731Z",
     "iopub.status.idle": "2021-07-06T10:45:36.766791Z",
     "shell.execute_reply": "2021-07-06T10:45:36.766151Z"
    },
    "papermill": {
     "duration": 6.010396,
     "end_time": "2021-07-06T10:45:36.766995",
     "exception": false,
     "start_time": "2021-07-06T10:45:30.756599",
     "status": "completed"
    },
    "tags": []
   },
   "outputs": [],
   "source": [
    "import glob\n",
    "import numpy as np\n",
    "import os\n",
    "import pandas as pd\n",
    "import tensorflow as tf\n",
    "\n",
    "from sklearn.compose import make_column_transformer\n",
    "from sklearn.metrics import r2_score\n",
    "from sklearn.model_selection import GroupShuffleSplit\n",
    "from sklearn.preprocessing import StandardScaler\n",
    "\n",
    "from tensorflow import keras\n"
   ]
  },
  {
   "cell_type": "code",
   "execution_count": 2,
   "id": "backed-apparatus",
   "metadata": {
    "execution": {
     "iopub.execute_input": "2021-07-06T10:45:36.807489Z",
     "iopub.status.busy": "2021-07-06T10:45:36.806809Z",
     "iopub.status.idle": "2021-07-06T10:45:36.826937Z",
     "shell.execute_reply": "2021-07-06T10:45:36.826372Z",
     "shell.execute_reply.started": "2021-07-05T18:46:14.357439Z"
    },
    "papermill": {
     "duration": 0.042328,
     "end_time": "2021-07-06T10:45:36.827102",
     "exception": false,
     "start_time": "2021-07-06T10:45:36.784774",
     "status": "completed"
    },
    "tags": []
   },
   "outputs": [],
   "source": [
    "list_order_book_file_train = glob.glob('optiver-realized-volatility-prediction/book_train.parquet/*')"
   ]
  },
  {
   "cell_type": "code",
   "execution_count": 3,
   "id": "sharp-technician",
   "metadata": {
    "execution": {
     "iopub.execute_input": "2021-07-06T10:45:36.867282Z",
     "iopub.status.busy": "2021-07-06T10:45:36.866581Z",
     "iopub.status.idle": "2021-07-06T10:45:37.171684Z",
     "shell.execute_reply": "2021-07-06T10:45:37.171153Z",
     "shell.execute_reply.started": "2021-07-05T18:46:14.373343Z"
    },
    "papermill": {
     "duration": 0.326855,
     "end_time": "2021-07-06T10:45:37.171833",
     "exception": false,
     "start_time": "2021-07-06T10:45:36.844978",
     "status": "completed"
    },
    "tags": []
   },
   "outputs": [],
   "source": [
    "train = pd.read_csv('optiver-realized-volatility-prediction/train.csv')"
   ]
  },
  {
   "cell_type": "markdown",
   "id": "romance-gazette",
   "metadata": {
    "papermill": {
     "duration": 0.01696,
     "end_time": "2021-07-06T10:45:37.206245",
     "exception": false,
     "start_time": "2021-07-06T10:45:37.189285",
     "status": "completed"
    },
    "tags": []
   },
   "source": [
    "# Calculate additional features"
   ]
  },
  {
   "cell_type": "markdown",
   "id": "amino-rogers",
   "metadata": {
    "papermill": {
     "duration": 0.016856,
     "end_time": "2021-07-06T10:45:37.240304",
     "exception": false,
     "start_time": "2021-07-06T10:45:37.223448",
     "status": "completed"
    },
    "tags": []
   },
   "source": [
    "Calculate the features from the Optiver examples provided to us by Optiver"
   ]
  },
  {
   "cell_type": "code",
   "execution_count": 4,
   "id": "purple-florida",
   "metadata": {
    "execution": {
     "iopub.execute_input": "2021-07-06T10:45:37.286625Z",
     "iopub.status.busy": "2021-07-06T10:45:37.285731Z",
     "iopub.status.idle": "2021-07-06T10:45:37.287366Z",
     "shell.execute_reply": "2021-07-06T10:45:37.287886Z",
     "shell.execute_reply.started": "2021-07-05T18:46:14.624367Z"
    },
    "papermill": {
     "duration": 0.030548,
     "end_time": "2021-07-06T10:45:37.288050",
     "exception": false,
     "start_time": "2021-07-06T10:45:37.257502",
     "status": "completed"
    },
    "tags": []
   },
   "outputs": [],
   "source": [
    "def log_return(list_stock_prices):\n",
    "    return np.log(list_stock_prices).diff() \n",
    "\n",
    "def realized_volatility(series_log_return):\n",
    "    return np.sqrt(np.sum(series_log_return**2))\n",
    "\n",
    "def add_features_and_aggregate_data(df):\n",
    "    # spread between ask and bis price on first level in order book\n",
    "    df['price_spread_l1'] = df['ask_price1'] - df['bid_price1']\n",
    "    # added price spread as log difference to make it independent\n",
    "    df['price_spread_l1_log_diff'] = df.groupby('time_id')['price_spread_l1'].transform(log_return)\n",
    "    # I tried to aggregate the data in buckets of 50 seconds and called the bucket index timeslice\n",
    "    # I would like to reduce memory consumption and train time with this approach\n",
    "    # There is a maximum of 600(0-599) Seconds in every training bucket(stock_id, time_id)\n",
    "    # So there should be a maximum of 12 Buckets\n",
    "    df['timeslice'] = df['seconds_in_bucket'] // 50 \n",
    "    # calculated the weighted average price\n",
    "    df['wap'] = (df['bid_price1'] * df['ask_size1'] + df['ask_price1'] * df['bid_size1']) / (df['bid_size1']+ df['ask_size1'])\n",
    "    # calculated log return\n",
    "    df['log_return'] = df.groupby(['time_id'], as_index=False)['wap'].transform(log_return)\n",
    "    # drop rows with na. The na gets created by the diff function by calculating the log return\n",
    "    # use inplace to save memory\n",
    "    df.dropna(subset=['log_return', 'price_spread_l1_log_diff'], inplace=True)\n",
    "    #calculate realized voltality for every bucket\n",
    "    df['realized_vol'] = df.groupby(['time_id', 'timeslice'], as_index=False)['log_return'].transform(realized_volatility)\n",
    "    \n",
    "    return df.groupby(['time_id', 'timeslice']).agg(\n",
    "                stock_id=('stock_id', 'max'),\n",
    "                min_price_spread_l1_log_diff=('price_spread_l1_log_diff', 'min'),\n",
    "                max_price_spread_l1_log_diff=('price_spread_l1_log_diff', 'max'),\n",
    "                mean_price_spread_l1_log_diff=('price_spread_l1_log_diff', 'mean'),\n",
    "                min_log_return=('log_return', 'min'),\n",
    "                max_log_return=('log_return', 'max'),\n",
    "                mean_log_return=('log_return', 'mean'),\n",
    "                min_realized_vol=('realized_vol', 'min'),\n",
    "                max_realized_vol=('realized_vol', 'max'),\n",
    "                mean_realized_vol=('realized_vol', 'mean'),\n",
    "    ).reset_index()"
   ]
  },
  {
   "cell_type": "markdown",
   "id": "binding-israeli",
   "metadata": {
    "papermill": {
     "duration": 0.017229,
     "end_time": "2021-07-06T10:45:37.322545",
     "exception": false,
     "start_time": "2021-07-06T10:45:37.305316",
     "status": "completed"
    },
    "tags": []
   },
   "source": [
    "# LSTM"
   ]
  },
  {
   "cell_type": "markdown",
   "id": "informational-geometry",
   "metadata": {
    "papermill": {
     "duration": 0.017519,
     "end_time": "2021-07-06T10:45:37.357832",
     "exception": false,
     "start_time": "2021-07-06T10:45:37.340313",
     "status": "completed"
    },
    "tags": []
   },
   "source": [
    "## Preprocess Input Data"
   ]
  },
  {
   "cell_type": "code",
   "execution_count": 5,
   "id": "representative-bruce",
   "metadata": {
    "execution": {
     "iopub.execute_input": "2021-07-06T10:45:37.396526Z",
     "iopub.status.busy": "2021-07-06T10:45:37.395920Z",
     "iopub.status.idle": "2021-07-06T10:45:37.400580Z",
     "shell.execute_reply": "2021-07-06T10:45:37.399991Z",
     "shell.execute_reply.started": "2021-07-05T18:46:14.638623Z"
    },
    "papermill": {
     "duration": 0.025238,
     "end_time": "2021-07-06T10:45:37.400710",
     "exception": false,
     "start_time": "2021-07-06T10:45:37.375472",
     "status": "completed"
    },
    "tags": []
   },
   "outputs": [],
   "source": [
    "feature_columns = ['stock_id', 'min_price_spread_l1_log_diff', 'max_price_spread_l1_log_diff', \n",
    "           'mean_price_spread_l1_log_diff', 'min_log_return', 'max_log_return',\n",
    "           'mean_log_return', 'min_realized_vol', 'max_realized_vol', 'mean_realized_vol']"
   ]
  },
  {
   "cell_type": "code",
   "execution_count": 6,
   "id": "successful-pressing",
   "metadata": {
    "execution": {
     "iopub.execute_input": "2021-07-06T10:45:37.441755Z",
     "iopub.status.busy": "2021-07-06T10:45:37.441157Z",
     "iopub.status.idle": "2021-07-06T10:45:37.443029Z",
     "shell.execute_reply": "2021-07-06T10:45:37.443500Z",
     "shell.execute_reply.started": "2021-07-05T18:46:14.65875Z"
    },
    "papermill": {
     "duration": 0.025376,
     "end_time": "2021-07-06T10:45:37.443659",
     "exception": false,
     "start_time": "2021-07-06T10:45:37.418283",
     "status": "completed"
    },
    "tags": []
   },
   "outputs": [],
   "source": [
    "def get_input_data(list_file):\n",
    "    df_input = pd.DataFrame()\n",
    "    for file in list_file:\n",
    "        # read only needed columns to save memory\n",
    "        df_input_file = pd.read_parquet(file, \n",
    "                                        columns=['time_id', 'seconds_in_bucket', \n",
    "                                                 'bid_size1' ,'bid_price1', \n",
    "                                                 'ask_size1', 'ask_price1'])\n",
    "        # get stock id from filename\n",
    "        df_input_file['stock_id'] = int(file.split('=')[1])\n",
    "        # add features and aggregate data\n",
    "        df_input = pd.concat([df_input,\n",
    "                              add_features_and_aggregate_data(df_input_file)], \n",
    "                              ignore_index=True, copy=False)\n",
    "    return df_input"
   ]
  },
  {
   "cell_type": "code",
   "execution_count": 7,
   "id": "known-venice",
   "metadata": {
    "execution": {
     "iopub.execute_input": "2021-07-06T10:45:37.481201Z",
     "iopub.status.busy": "2021-07-06T10:45:37.480584Z",
     "iopub.status.idle": "2021-07-06T13:38:53.479836Z",
     "shell.execute_reply": "2021-07-06T13:38:53.481208Z"
    },
    "papermill": {
     "duration": 10396.021627,
     "end_time": "2021-07-06T13:38:53.482629",
     "exception": false,
     "start_time": "2021-07-06T10:45:37.461002",
     "status": "completed"
    },
    "tags": []
   },
   "outputs": [],
   "source": [
    "df_input = get_input_data(list_file=list_order_book_file_train)"
   ]
  },
  {
   "cell_type": "code",
   "execution_count": 8,
   "id": "designed-cabin",
   "metadata": {
    "execution": {
     "iopub.execute_input": "2021-07-06T13:38:53.538168Z",
     "iopub.status.busy": "2021-07-06T13:38:53.537043Z",
     "iopub.status.idle": "2021-07-06T13:38:55.624582Z",
     "shell.execute_reply": "2021-07-06T13:38:55.624008Z"
    },
    "papermill": {
     "duration": 2.113613,
     "end_time": "2021-07-06T13:38:55.624743",
     "exception": false,
     "start_time": "2021-07-06T13:38:53.511130",
     "status": "completed"
    },
    "tags": []
   },
   "outputs": [],
   "source": [
    "# add row id and targets to data\n",
    "train['row_id'] = train['stock_id'].astype(str) + '-' + train['time_id'].astype(str)\n",
    "df_input = df_input.merge(train, on=['time_id', 'stock_id'], how = 'left')"
   ]
  },
  {
   "cell_type": "code",
   "execution_count": 9,
   "id": "northern-recipient",
   "metadata": {
    "execution": {
     "iopub.execute_input": "2021-07-06T13:38:55.818955Z",
     "iopub.status.busy": "2021-07-06T13:38:55.817800Z",
     "iopub.status.idle": "2021-07-06T13:39:04.691817Z",
     "shell.execute_reply": "2021-07-06T13:39:04.691144Z"
    },
    "papermill": {
     "duration": 9.049456,
     "end_time": "2021-07-06T13:39:04.691970",
     "exception": false,
     "start_time": "2021-07-06T13:38:55.642514",
     "status": "completed"
    },
    "tags": []
   },
   "outputs": [],
   "source": [
    "# split train and validation set groupwise by row-id\n",
    "train_inds, val_inds = next(GroupShuffleSplit(test_size=.20, n_splits=2, random_state = 7)\n",
    "                            .split(df_input, groups=df_input['row_id'])\n",
    "                           )\n",
    "\n",
    "train = df_input.iloc[train_inds]\n",
    "validation = df_input.iloc[val_inds]"
   ]
  },
  {
   "cell_type": "code",
   "execution_count": 10,
   "id": "mental-injury",
   "metadata": {
    "execution": {
     "iopub.execute_input": "2021-07-06T13:39:04.874975Z",
     "iopub.status.busy": "2021-07-06T13:39:04.873990Z",
     "iopub.status.idle": "2021-07-06T13:39:07.087492Z",
     "shell.execute_reply": "2021-07-06T13:39:07.086916Z"
    },
    "papermill": {
     "duration": 2.377708,
     "end_time": "2021-07-06T13:39:07.087633",
     "exception": false,
     "start_time": "2021-07-06T13:39:04.709925",
     "status": "completed"
    },
    "tags": []
   },
   "outputs": [],
   "source": [
    "# fit transformer on columns in train dataset\n",
    "column_transformer = make_column_transformer(\n",
    "    (StandardScaler(), ['min_price_spread_l1_log_diff', 'max_price_spread_l1_log_diff', \n",
    "                        'mean_price_spread_l1_log_diff', 'min_log_return', \n",
    "                        'max_log_return', 'mean_log_return', 'min_realized_vol', \n",
    "                        'max_realized_vol', 'mean_realized_vol']),\n",
    "    remainder='passthrough')\n",
    "column_transformer = column_transformer.fit(train[feature_columns])\n"
   ]
  },
  {
   "cell_type": "code",
   "execution_count": 11,
   "id": "narrow-philippines",
   "metadata": {
    "execution": {
     "iopub.execute_input": "2021-07-06T13:39:07.141668Z",
     "iopub.status.busy": "2021-07-06T13:39:07.140584Z",
     "iopub.status.idle": "2021-07-06T13:39:07.143670Z",
     "shell.execute_reply": "2021-07-06T13:39:07.143181Z"
    },
    "papermill": {
     "duration": 0.038326,
     "end_time": "2021-07-06T13:39:07.143813",
     "exception": false,
     "start_time": "2021-07-06T13:39:07.105487",
     "status": "completed"
    },
    "tags": []
   },
   "outputs": [],
   "source": [
    "# save memory\n",
    "del(df_input)"
   ]
  },
  {
   "cell_type": "code",
   "execution_count": 12,
   "id": "vulnerable-string",
   "metadata": {
    "execution": {
     "iopub.execute_input": "2021-07-06T13:39:07.249891Z",
     "iopub.status.busy": "2021-07-06T13:39:07.249107Z",
     "iopub.status.idle": "2021-07-06T14:10:02.684137Z",
     "shell.execute_reply": "2021-07-06T14:10:02.683415Z"
    },
    "papermill": {
     "duration": 1855.522456,
     "end_time": "2021-07-06T14:10:02.684356",
     "exception": false,
     "start_time": "2021-07-06T13:39:07.161900",
     "status": "completed"
    },
    "tags": []
   },
   "outputs": [],
   "source": [
    "# reshape and transform columns groupwise to get the needed shape for LSTM [batch, timesteps, feature]\n",
    "# Pad to length 12, the max of seconds_in_bucket/50, to get equal sized sequences.\n",
    "train_np = np.array([keras.preprocessing.sequence.pad_sequences(\n",
    "    column_transformer.transform(\n",
    "        x[feature_columns]\n",
    "    ).transpose(), \n",
    "    maxlen=12, \n",
    "    dtype='float32', \n",
    "    value=0.0).transpose() for _, x in train.groupby('row_id')])\n",
    "val_np = np.array([keras.preprocessing.sequence.pad_sequences(column_transformer.transform(x[feature_columns]).transpose(), \n",
    "                                                               maxlen=12, \n",
    "                                                               dtype='float32',\n",
    "                                                               value=0.0).transpose() for _, x in validation.groupby('row_id')])\n",
    "# scale targets\n",
    "target_scaler = StandardScaler()\n",
    "target_train = target_scaler.fit_transform(\n",
    "    train.groupby(['stock_id', 'time_id'])['target'].first().values.reshape(-1,1)\n",
    ").reshape(-1)\n",
    "target_val = target_scaler.transform(\n",
    "    validation.groupby(['stock_id', 'time_id'])['target'].first().values.reshape(-1,1)\n",
    ").reshape(-1)"
   ]
  },
  {
   "cell_type": "code",
   "execution_count": 13,
   "id": "thorough-ability",
   "metadata": {
    "execution": {
     "iopub.execute_input": "2021-07-06T14:10:02.759767Z",
     "iopub.status.busy": "2021-07-06T14:10:02.758922Z",
     "iopub.status.idle": "2021-07-06T14:10:02.762542Z",
     "shell.execute_reply": "2021-07-06T14:10:02.762035Z"
    },
    "papermill": {
     "duration": 0.059232,
     "end_time": "2021-07-06T14:10:02.762683",
     "exception": false,
     "start_time": "2021-07-06T14:10:02.703451",
     "status": "completed"
    },
    "tags": []
   },
   "outputs": [],
   "source": [
    "# save memory\n",
    "del(train, validation)"
   ]
  },
  {
   "cell_type": "code",
   "execution_count": 14,
   "id": "included-reset",
   "metadata": {
    "execution": {
     "iopub.execute_input": "2021-07-06T14:10:02.808640Z",
     "iopub.status.busy": "2021-07-06T14:10:02.807824Z",
     "iopub.status.idle": "2021-07-06T14:10:04.919834Z",
     "shell.execute_reply": "2021-07-06T14:10:04.919201Z"
    },
    "papermill": {
     "duration": 2.138804,
     "end_time": "2021-07-06T14:10:04.920028",
     "exception": false,
     "start_time": "2021-07-06T14:10:02.781224",
     "status": "completed"
    },
    "tags": []
   },
   "outputs": [
    {
     "name": "stdout",
     "output_type": "stream",
     "text": [
      "Model: \"model\"\n",
      "_________________________________________________________________\n",
      "Layer (type)                 Output Shape              Param #   \n",
      "=================================================================\n",
      "input_1 (InputLayer)         [(None, 12, 10)]          0         \n",
      "_________________________________________________________________\n",
      "masking (Masking)            (None, 12, 10)            0         \n",
      "_________________________________________________________________\n",
      "lstm (LSTM)                  (None, 12, 128)           71168     \n",
      "_________________________________________________________________\n",
      "lstm_1 (LSTM)                (None, 12, 64)            49408     \n",
      "_________________________________________________________________\n",
      "lstm_2 (LSTM)                (None, 10)                3000      \n",
      "_________________________________________________________________\n",
      "dense (Dense)                (None, 1)                 11        \n",
      "=================================================================\n",
      "Total params: 123,587\n",
      "Trainable params: 123,587\n",
      "Non-trainable params: 0\n",
      "_________________________________________________________________\n"
     ]
    }
   ],
   "source": [
    "# some simple LSTM\n",
    "# The architecture is mostly random. I don't know how to create a good architecture for this problem\n",
    "learning_rate = 0.001\n",
    "\n",
    "inputs_lstm = keras.layers.Input(shape=(train_np.shape[1], train_np.shape[2]))\n",
    "masking = keras.layers.Masking(mask_value=0.0, input_shape=(train_np.shape[1], train_np.shape[2]))(inputs_lstm)\n",
    "lstm_1_out = keras.layers.LSTM(128, return_sequences=True)(masking)\n",
    "lstm_2_out = keras.layers.LSTM(64, return_sequences=True)(lstm_1_out)\n",
    "lstm_3_out = keras.layers.LSTM(10, activation='relu')(lstm_2_out)\n",
    "outputs = keras.layers.Dense(1)(lstm_3_out)\n",
    "\n",
    "model = keras.Model(inputs=inputs_lstm, outputs=outputs)\n",
    "model.compile(optimizer=keras.optimizers.Adam(learning_rate=learning_rate), loss='mean_absolute_error')\n",
    "model.summary()"
   ]
  },
  {
   "cell_type": "code",
   "execution_count": 15,
   "id": "single-mining",
   "metadata": {
    "execution": {
     "iopub.execute_input": "2021-07-06T14:10:04.965123Z",
     "iopub.status.busy": "2021-07-06T14:10:04.964184Z",
     "iopub.status.idle": "2021-07-06T14:10:04.967324Z",
     "shell.execute_reply": "2021-07-06T14:10:04.966776Z"
    },
    "papermill": {
     "duration": 0.02829,
     "end_time": "2021-07-06T14:10:04.967466",
     "exception": false,
     "start_time": "2021-07-06T14:10:04.939176",
     "status": "completed"
    },
    "tags": []
   },
   "outputs": [],
   "source": [
    "# early stopping and fit function\n",
    "def run_trainings_batch(dataset_train, target, val, epochs):\n",
    "    path_checkpoint = 'model_checkpoint.h5'\n",
    "    es_callback = keras.callbacks.EarlyStopping(monitor='val_loss', min_delta=0, patience=5)\n",
    "\n",
    "    history = model.fit(\n",
    "        dataset_train,\n",
    "        target,\n",
    "        epochs=epochs,\n",
    "        batch_size=1000,\n",
    "        validation_data=val,\n",
    "        callbacks=[es_callback],\n",
    "    )"
   ]
  },
  {
   "cell_type": "code",
   "execution_count": 16,
   "id": "engaging-morris",
   "metadata": {
    "execution": {
     "iopub.execute_input": "2021-07-06T14:10:05.010932Z",
     "iopub.status.busy": "2021-07-06T14:10:05.010167Z",
     "iopub.status.idle": "2021-07-06T14:50:21.014678Z",
     "shell.execute_reply": "2021-07-06T14:50:21.014025Z"
    },
    "papermill": {
     "duration": 2416.027936,
     "end_time": "2021-07-06T14:50:21.014840",
     "exception": false,
     "start_time": "2021-07-06T14:10:04.986904",
     "status": "completed"
    },
    "tags": []
   },
   "outputs": [
    {
     "name": "stdout",
     "output_type": "stream",
     "text": [
      "Epoch 1/100\n",
      "344/344 [==============================] - 94s 251ms/step - loss: 0.6345 - val_loss: 0.6309\n",
      "Epoch 2/100\n",
      "344/344 [==============================] - 84s 243ms/step - loss: 0.6224 - val_loss: 0.6329\n",
      "Epoch 3/100\n",
      "344/344 [==============================] - 84s 245ms/step - loss: 0.6201 - val_loss: 0.6234\n",
      "Epoch 4/100\n",
      "344/344 [==============================] - 84s 244ms/step - loss: 0.6147 - val_loss: 0.6225\n",
      "Epoch 5/100\n",
      "344/344 [==============================] - 83s 242ms/step - loss: 0.6115 - val_loss: 0.6182\n",
      "Epoch 6/100\n",
      "344/344 [==============================] - 84s 244ms/step - loss: 0.6110 - val_loss: 0.6202\n",
      "Epoch 7/100\n",
      "344/344 [==============================] - 85s 247ms/step - loss: 0.6109 - val_loss: 0.6172\n",
      "Epoch 8/100\n",
      "344/344 [==============================] - 86s 250ms/step - loss: 0.6063 - val_loss: 0.6122\n",
      "Epoch 9/100\n",
      "344/344 [==============================] - 85s 246ms/step - loss: 0.6055 - val_loss: 0.6085\n",
      "Epoch 10/100\n",
      "344/344 [==============================] - 85s 246ms/step - loss: 0.6013 - val_loss: 0.6071\n",
      "Epoch 11/100\n",
      "344/344 [==============================] - 85s 247ms/step - loss: 0.6017 - val_loss: 0.6075\n",
      "Epoch 12/100\n",
      "344/344 [==============================] - 85s 246ms/step - loss: 0.5971 - val_loss: 0.6093\n",
      "Epoch 13/100\n",
      "344/344 [==============================] - 86s 249ms/step - loss: 0.5945 - val_loss: 0.6042\n",
      "Epoch 14/100\n",
      "344/344 [==============================] - 85s 248ms/step - loss: 0.5926 - val_loss: 0.6035\n",
      "Epoch 15/100\n",
      "344/344 [==============================] - 88s 255ms/step - loss: 0.5914 - val_loss: 0.6010\n",
      "Epoch 16/100\n",
      "344/344 [==============================] - 87s 252ms/step - loss: 0.5870 - val_loss: 0.6021\n",
      "Epoch 17/100\n",
      "344/344 [==============================] - 87s 254ms/step - loss: 0.5903 - val_loss: 0.6003\n",
      "Epoch 18/100\n",
      "344/344 [==============================] - 86s 250ms/step - loss: 0.5889 - val_loss: 0.5988\n",
      "Epoch 19/100\n",
      "344/344 [==============================] - 88s 256ms/step - loss: 0.5851 - val_loss: 0.5983\n",
      "Epoch 20/100\n",
      "344/344 [==============================] - 89s 259ms/step - loss: 0.5877 - val_loss: 0.5987\n",
      "Epoch 21/100\n",
      "344/344 [==============================] - 89s 258ms/step - loss: 0.5841 - val_loss: 0.6014\n",
      "Epoch 22/100\n",
      "344/344 [==============================] - 89s 259ms/step - loss: 0.5862 - val_loss: 0.5986\n",
      "Epoch 23/100\n",
      "344/344 [==============================] - 87s 254ms/step - loss: 0.5843 - val_loss: 0.5946\n",
      "Epoch 24/100\n",
      "344/344 [==============================] - 86s 251ms/step - loss: 0.5827 - val_loss: 0.5975\n",
      "Epoch 25/100\n",
      "344/344 [==============================] - 87s 252ms/step - loss: 0.5848 - val_loss: 0.5953\n",
      "Epoch 26/100\n",
      "344/344 [==============================] - 87s 252ms/step - loss: 0.5824 - val_loss: 0.5968\n",
      "Epoch 27/100\n",
      "344/344 [==============================] - 86s 250ms/step - loss: 0.5811 - val_loss: 0.5973\n",
      "Epoch 28/100\n",
      "344/344 [==============================] - 86s 251ms/step - loss: 0.5813 - val_loss: 0.5959\n"
     ]
    }
   ],
   "source": [
    "# train model\n",
    "run_trainings_batch(train_np, target_train, (val_np, target_val), 100)"
   ]
  },
  {
   "cell_type": "code",
   "execution_count": 17,
   "id": "third-austin",
   "metadata": {
    "execution": {
     "iopub.execute_input": "2021-07-06T14:50:26.853684Z",
     "iopub.status.busy": "2021-07-06T14:50:26.853053Z",
     "iopub.status.idle": "2021-07-06T14:50:26.855137Z",
     "shell.execute_reply": "2021-07-06T14:50:26.855620Z"
    },
    "papermill": {
     "duration": 2.966981,
     "end_time": "2021-07-06T14:50:26.855798",
     "exception": false,
     "start_time": "2021-07-06T14:50:23.888817",
     "status": "completed"
    },
    "tags": []
   },
   "outputs": [],
   "source": [
    "# save memory\n",
    "del(train_np, target_train, val_np, target_val)"
   ]
  },
  {
   "cell_type": "markdown",
   "id": "personalized-savannah",
   "metadata": {
    "papermill": {
     "duration": 2.884379,
     "end_time": "2021-07-06T14:50:32.689536",
     "exception": false,
     "start_time": "2021-07-06T14:50:29.805157",
     "status": "completed"
    },
    "tags": []
   },
   "source": [
    "# Making predictions"
   ]
  },
  {
   "cell_type": "code",
   "execution_count": 18,
   "id": "suspected-victor",
   "metadata": {
    "execution": {
     "iopub.execute_input": "2021-07-06T14:50:38.633782Z",
     "iopub.status.busy": "2021-07-06T14:50:38.633117Z",
     "iopub.status.idle": "2021-07-06T14:50:38.654345Z",
     "shell.execute_reply": "2021-07-06T14:50:38.654830Z"
    },
    "papermill": {
     "duration": 2.952752,
     "end_time": "2021-07-06T14:50:38.655024",
     "exception": false,
     "start_time": "2021-07-06T14:50:35.702272",
     "status": "completed"
    },
    "tags": []
   },
   "outputs": [],
   "source": [
    "list_order_book_file_test = glob.glob('/optiver-realized-volatility-prediction/book_test.parquet/*')\n",
    "# get prediction for every file\n",
    "def get_predictions(list_file):\n",
    "    prediction = pd.DataFrame()\n",
    "    for file in list_file:\n",
    "        df_input_test = get_input_data(list_file=[file])\n",
    "        df_input_test['row_id'] = df_input_test['stock_id'].astype(str) + '-' + df_input_test['time_id'].astype(str)\n",
    "        df_pred_np = np.array([keras.preprocessing.sequence.pad_sequences(\n",
    "            column_transformer.transform(x[feature_columns]).transpose(), \n",
    "            maxlen=12, \n",
    "            dtype='float32', \n",
    "            value=0.0).transpose() for _, x in df_input_test.groupby('row_id')])\n",
    "        prediction_new = pd.DataFrame()\n",
    "        prediction_new['row_id'] = df_input_test['row_id'].unique()\n",
    "        prediction_new['target'] = model.predict(df_pred_np).reshape(-1)\n",
    "        prediction = pd.concat([prediction, prediction_new])\n",
    "    prediction['target'] = target_scaler.inverse_transform(prediction['target'])\n",
    "    return prediction\n"
   ]
  },
  {
   "cell_type": "code",
   "execution_count": 19,
   "id": "minus-science",
   "metadata": {
    "execution": {
     "iopub.execute_input": "2021-07-06T14:50:44.424072Z",
     "iopub.status.busy": "2021-07-06T14:50:44.423374Z",
     "iopub.status.idle": "2021-07-06T14:50:47.025004Z",
     "shell.execute_reply": "2021-07-06T14:50:47.024327Z"
    },
    "papermill": {
     "duration": 5.485399,
     "end_time": "2021-07-06T14:50:47.025155",
     "exception": false,
     "start_time": "2021-07-06T14:50:41.539756",
     "status": "completed"
    },
    "tags": []
   },
   "outputs": [],
   "source": [
    "# save submission\n",
    "get_predictions(list_file=list_order_book_file_test).to_csv('submission.csv',index = False)"
   ]
  }
 ],
 "metadata": {
  "kernelspec": {
   "display_name": "Python 3 (ipykernel)",
   "language": "python",
   "name": "python3"
  },
  "language_info": {
   "codemirror_mode": {
    "name": "ipython",
    "version": 3
   },
   "file_extension": ".py",
   "mimetype": "text/x-python",
   "name": "python",
   "nbconvert_exporter": "python",
   "pygments_lexer": "ipython3",
   "version": "3.9.7"
  },
  "papermill": {
   "default_parameters": {},
   "duration": 14729.802663,
   "end_time": "2021-07-06T14:50:52.623156",
   "environment_variables": {},
   "exception": null,
   "input_path": "__notebook__.ipynb",
   "output_path": "__notebook__.ipynb",
   "parameters": {},
   "start_time": "2021-07-06T10:45:22.820493",
   "version": "2.3.3"
  }
 },
 "nbformat": 4,
 "nbformat_minor": 5
}
